{
 "cells": [
  {
   "cell_type": "code",
   "execution_count": 36,
   "metadata": {},
   "outputs": [],
   "source": [
    "from treenode import *\n",
    "from renaming_tree import *\n",
    "import os, sys"
   ]
  },
  {
   "cell_type": "code",
   "execution_count": 21,
   "metadata": {},
   "outputs": [],
   "source": [
    "def calculate_depth(node):\n",
    "    if not node.children:\n",
    "        return 1\n",
    "    else:\n",
    "        return 1+ max(calculate_depth(child) for child in node.children.values())"
   ]
  },
  {
   "cell_type": "code",
   "execution_count": 23,
   "metadata": {},
   "outputs": [
    {
     "name": "stdout",
     "output_type": "stream",
     "text": [
      "6\n"
     ]
    }
   ],
   "source": [
    "alex = build_renaming_tree()\n",
    "print(calculate_depth(alex))"
   ]
  },
  {
   "cell_type": "code",
   "execution_count": 24,
   "metadata": {},
   "outputs": [
    {
     "name": "stdout",
     "output_type": "stream",
     "text": [
      "['1-2', '3', '4', '5-6', '7-9', '10']\n"
     ]
    }
   ],
   "source": [
    "keys_example = find_keys(\"/Users/alex/Desktop/ALEX/TEST_2024/753\")\n",
    "print(keys_example)"
   ]
  },
  {
   "cell_type": "code",
   "execution_count": 35,
   "metadata": {},
   "outputs": [
    {
     "data": {
      "text/plain": [
       "'ORS-Otros'"
      ]
     },
     "execution_count": 35,
     "metadata": {},
     "output_type": "execute_result"
    }
   ],
   "source": [
    "alex.children['1-6'].find_value('15-16')"
   ]
  },
  {
   "cell_type": "code",
   "execution_count": 34,
   "metadata": {},
   "outputs": [],
   "source": [
    "alex.children['1-2'].find_value('15-16')"
   ]
  },
  {
   "cell_type": "code",
   "execution_count": 41,
   "metadata": {},
   "outputs": [],
   "source": [
    "def rename_files_in_folder(folder_path, folder_id, renaming_tree):\n",
    "    keys = find_keys(folder_path)\n",
    "    keys_bm = keys[0]\n",
    "    for file_name in os.listdir(folder_path):\n",
    "        if file_name.endswith(\".pdf\"):\n",
    "            base_name = os.path.splitext(file_name)[0]\n",
    "            key = base_name.split(\"merged-\")[-1]  # Extract the key part from the filename \n",
    "            if keys_bm == '1-2':\n",
    "                if key == keys_bm:\n",
    "                    new_value = renaming_tree.find_value(key)\n",
    "                else:\n",
    "                    new_value = renaming_tree.children['1-2'].find_value(key)\n",
    "\n",
    "            elif keys_bm == '1-6':\n",
    "                if key == keys_bm:\n",
    "                    new_value = renaming_tree.find_value(key)\n",
    "                else:\n",
    "                    new_value = renaming_tree.children['1-6'].find_value(key)\n",
    "            if new_value:\n",
    "                new_name = f\"{folder_id}-{new_value}.pdf\"\n",
    "                old_file_path = os.path.join(folder_path, file_name)\n",
    "                new_file_path = os.path.join(folder_path, new_name)\n",
    "                os.rename(old_file_path, new_file_path)\n",
    "                print(f\"Renamed {old_file_path} to {new_file_path}\")\n",
    "            else:\n",
    "                print(f\"No matching rule for {file_name}, leaving it unchanged.\")"
   ]
  },
  {
   "cell_type": "code",
   "execution_count": 42,
   "metadata": {},
   "outputs": [
    {
     "name": "stdout",
     "output_type": "stream",
     "text": [
      "Renamed /Users/alex/Desktop/ALEX/TEST_2024/753/753-3_merged-7-9.pdf to /Users/alex/Desktop/ALEX/TEST_2024/753/753-Inf-Medico.pdf\n",
      "Renamed /Users/alex/Desktop/ALEX/TEST_2024/753/753-3_merged-3.pdf to /Users/alex/Desktop/ALEX/TEST_2024/753/753-ActayRecepcion.pdf\n",
      "Renamed /Users/alex/Desktop/ALEX/TEST_2024/753/753-3_merged-4.pdf to /Users/alex/Desktop/ALEX/TEST_2024/753/753-CVC-CodigoValidacion.pdf\n",
      "Renamed /Users/alex/Desktop/ALEX/TEST_2024/753/753-3_merged-10.pdf to /Users/alex/Desktop/ALEX/TEST_2024/753/753-ORS-Otros.pdf\n",
      "Renamed /Users/alex/Desktop/ALEX/TEST_2024/753/753-3_merged-1-2.pdf to /Users/alex/Desktop/ALEX/TEST_2024/753/753-CC-Cobertura.pdf\n",
      "Renamed /Users/alex/Desktop/ALEX/TEST_2024/753/753-3_merged-5-6.pdf to /Users/alex/Desktop/ALEX/TEST_2024/753/753-053-Derivacion.pdf\n"
     ]
    }
   ],
   "source": [
    "path_folder = \"/Users/alex/Desktop/ALEX/TEST_2024/753\"\n",
    "folder_id = 753\n",
    "alex = build_renaming_tree()\n",
    "\n",
    "rename_files_in_folder(path_folder, folder_id, alex)\n"
   ]
  }
 ],
 "metadata": {
  "kernelspec": {
   "display_name": "flask_env",
   "language": "python",
   "name": "python3"
  },
  "language_info": {
   "codemirror_mode": {
    "name": "ipython",
    "version": 3
   },
   "file_extension": ".py",
   "mimetype": "text/x-python",
   "name": "python",
   "nbconvert_exporter": "python",
   "pygments_lexer": "ipython3",
   "version": "3.12.3"
  }
 },
 "nbformat": 4,
 "nbformat_minor": 2
}
